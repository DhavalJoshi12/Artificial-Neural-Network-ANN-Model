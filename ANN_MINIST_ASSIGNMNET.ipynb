{
  "nbformat": 4,
  "nbformat_minor": 0,
  "metadata": {
    "colab": {
      "provenance": []
    },
    "kernelspec": {
      "name": "python3",
      "display_name": "Python 3"
    },
    "language_info": {
      "name": "python"
    }
  },
  "cells": [
    {
      "cell_type": "code",
      "execution_count": null,
      "metadata": {
        "id": "fXMLi3mBAhgH"
      },
      "outputs": [],
      "source": [
        "import pandas as pd\n",
        "import numpy as np\n",
        "import matplotlib.pyplot as plt\n",
        "import tensorflow as tf\n",
        "from tensorflow import keras\n",
        "\n",
        "import warnings\n",
        "warnings.filterwarnings('ignore')"
      ]
    },
    {
      "cell_type": "code",
      "source": [
        "(X_train, y_train), (X_test, y_test) = keras.datasets.fashion_mnist.load_data()"
      ],
      "metadata": {
        "colab": {
          "base_uri": "https://localhost:8080/"
        },
        "id": "u_N2tLd2A5XI",
        "outputId": "ce92637f-1a7c-400e-8bad-367273cac3fd"
      },
      "execution_count": null,
      "outputs": [
        {
          "output_type": "stream",
          "name": "stdout",
          "text": [
            "Downloading data from https://storage.googleapis.com/tensorflow/tf-keras-datasets/train-labels-idx1-ubyte.gz\n",
            "\u001b[1m29515/29515\u001b[0m \u001b[32m━━━━━━━━━━━━━━━━━━━━\u001b[0m\u001b[37m\u001b[0m \u001b[1m0s\u001b[0m 0us/step\n",
            "Downloading data from https://storage.googleapis.com/tensorflow/tf-keras-datasets/train-images-idx3-ubyte.gz\n",
            "\u001b[1m26421880/26421880\u001b[0m \u001b[32m━━━━━━━━━━━━━━━━━━━━\u001b[0m\u001b[37m\u001b[0m \u001b[1m0s\u001b[0m 0us/step\n",
            "Downloading data from https://storage.googleapis.com/tensorflow/tf-keras-datasets/t10k-labels-idx1-ubyte.gz\n",
            "\u001b[1m5148/5148\u001b[0m \u001b[32m━━━━━━━━━━━━━━━━━━━━\u001b[0m\u001b[37m\u001b[0m \u001b[1m0s\u001b[0m 0us/step\n",
            "Downloading data from https://storage.googleapis.com/tensorflow/tf-keras-datasets/t10k-images-idx3-ubyte.gz\n",
            "\u001b[1m4422102/4422102\u001b[0m \u001b[32m━━━━━━━━━━━━━━━━━━━━\u001b[0m\u001b[37m\u001b[0m \u001b[1m0s\u001b[0m 0us/step\n"
          ]
        }
      ]
    },
    {
      "cell_type": "code",
      "source": [
        "X_train.shape\n"
      ],
      "metadata": {
        "colab": {
          "base_uri": "https://localhost:8080/"
        },
        "id": "Bzw93YqTA5Zq",
        "outputId": "01386b5d-70d4-4937-903c-0177173d61c5"
      },
      "execution_count": null,
      "outputs": [
        {
          "output_type": "execute_result",
          "data": {
            "text/plain": [
              "(60000, 28, 28)"
            ]
          },
          "metadata": {},
          "execution_count": 8
        }
      ]
    },
    {
      "cell_type": "code",
      "source": [
        "y_test.shape"
      ],
      "metadata": {
        "colab": {
          "base_uri": "https://localhost:8080/"
        },
        "id": "xUgBcHu0A5co",
        "outputId": "57607262-305d-472c-deb1-78b291b91f9f"
      },
      "execution_count": null,
      "outputs": [
        {
          "output_type": "execute_result",
          "data": {
            "text/plain": [
              "(10000,)"
            ]
          },
          "metadata": {},
          "execution_count": 9
        }
      ]
    },
    {
      "cell_type": "code",
      "source": [
        "X_test.shape"
      ],
      "metadata": {
        "colab": {
          "base_uri": "https://localhost:8080/"
        },
        "id": "NJSKVOj5A5ff",
        "outputId": "42711735-73ab-4359-c24f-f173c5158981"
      },
      "execution_count": null,
      "outputs": [
        {
          "output_type": "execute_result",
          "data": {
            "text/plain": [
              "(10000, 28, 28)"
            ]
          },
          "metadata": {},
          "execution_count": 10
        }
      ]
    },
    {
      "cell_type": "code",
      "source": [
        "y_train.shape"
      ],
      "metadata": {
        "colab": {
          "base_uri": "https://localhost:8080/"
        },
        "id": "xnc7VO2LA5iL",
        "outputId": "fb7ebe32-069f-4019-ca5b-3e6a3a5ee917"
      },
      "execution_count": null,
      "outputs": [
        {
          "output_type": "execute_result",
          "data": {
            "text/plain": [
              "(60000,)"
            ]
          },
          "metadata": {},
          "execution_count": 11
        }
      ]
    },
    {
      "cell_type": "code",
      "source": [
        "X_train[7]"
      ],
      "metadata": {
        "colab": {
          "base_uri": "https://localhost:8080/",
          "height": 69
        },
        "id": "ryBe5zL6A5k5",
        "outputId": "377316b8-94c7-4f08-f1c9-0cb9cee464af"
      },
      "execution_count": null,
      "outputs": [
        {
          "output_type": "execute_result",
          "data": {
            "text/plain": [
              "array([[  0,   0,   0,   0,   0,   1,   1,   0,   0,   0,   0,  63,  28,\n",
              "          0,   0,   0,  33,  85,   0,   0,   0,   0,   0,   0,   0,   0,\n",
              "          0,   0],\n",
              "       [  0,   0,   0,   0,   0,   2,   0,   0,  28, 126, 241, 255, 255,\n",
              "        255, 255, 255, 255, 252, 248, 111,   0,   0,   0,   2,   0,   0,\n",
              "          0,   0],\n",
              "       [  0,   0,   0,   0,   2,   0,   0, 206, 244, 251, 241, 230, 238,\n",
              "        221, 205, 230, 240, 230, 239, 251, 233, 165,   0,   0,   2,   0,\n",
              "          0,   0],\n",
              "       [  0,   0,   0,   1,   0,   0, 199, 251, 228, 234, 233, 236, 235,\n",
              "        245, 247, 237, 234, 239, 230, 230, 235, 255, 176,   0,   0,   1,\n",
              "          0,   0],\n",
              "       [  0,   0,   0,   0,   0,  81, 254, 226, 228, 239, 237, 236, 234,\n",
              "        232, 233, 235, 235, 236, 239, 237, 233, 225, 246,  73,   0,   0,\n",
              "          0,   0],\n",
              "       [  0,   0,   3,   0,   0, 255, 235, 239, 223, 234, 238, 236, 237,\n",
              "        236, 235, 235, 235, 235, 236, 235, 234, 230, 231, 255,  24,   0,\n",
              "          4,   0],\n",
              "       [  0,   0,   0,   0, 177, 239, 223, 254, 223, 232, 234, 234, 236,\n",
              "        236, 235, 235, 235, 235, 235, 234, 231, 233, 222, 246,  88,   0,\n",
              "          1,   0],\n",
              "       [  0,   0,   0,   0, 234, 239, 229, 255, 220, 232, 233, 232, 234,\n",
              "        235, 235, 235, 235, 235, 234, 233, 232, 230, 228, 254, 140,   0,\n",
              "          0,   0],\n",
              "       [  0,   0,   0,   0, 225, 240, 226, 255, 221, 227, 232, 228, 231,\n",
              "        230, 228, 229, 231, 230, 228, 228, 232, 223, 229, 244, 231,   0,\n",
              "          0,   0],\n",
              "       [  0,   0,   0,  47, 245, 231, 234, 249, 229, 221, 229, 225, 229,\n",
              "        227, 226, 227, 228, 227, 228, 229, 228, 224, 246, 240, 227,   0,\n",
              "          0,   0],\n",
              "       [  0,   0,   0,  51, 248, 230, 245, 246, 230, 226, 230, 227, 230,\n",
              "        229, 228, 229, 230, 228, 228, 231, 225, 227, 242, 237, 255,   0,\n",
              "          0,   0],\n",
              "       [  0,   0,   0, 101, 253, 229, 247, 241, 221, 233, 228, 227, 229,\n",
              "        228, 227, 228, 230, 227, 230, 234, 225, 229, 251, 229, 243,  55,\n",
              "          0,   0],\n",
              "       [  0,   0,   0, 102, 255, 227, 242, 241, 221, 234, 223, 230, 228,\n",
              "        231, 229, 231, 231, 227, 229, 241, 219, 236, 254, 225, 250, 167,\n",
              "          0,   0],\n",
              "       [  0,   0,   0,  90, 255, 229, 236, 231, 222, 236, 223, 231, 229,\n",
              "        231, 229, 231, 231, 228, 224, 245, 218, 243, 239, 227, 244, 175,\n",
              "          0,   0],\n",
              "       [  0,   0,   0, 212, 250, 225, 236, 249, 229, 237, 223, 231, 229,\n",
              "        231, 229, 231, 231, 230, 221, 243, 225, 248, 230, 236, 234, 255,\n",
              "          1,   0],\n",
              "       [  0,   0,   0, 245, 243, 232, 243, 218, 228, 238, 222, 231, 229,\n",
              "        231, 229, 231, 231, 230, 222, 237, 237, 252, 229, 239, 240, 223,\n",
              "          0,   0],\n",
              "       [  0,   0,  27, 255, 235, 242, 237, 216, 230, 236, 224, 229, 227,\n",
              "        233, 233, 233, 230, 228, 224, 230, 245, 247, 221, 243, 239, 252,\n",
              "          0,   0],\n",
              "       [  0,   0,  88, 255, 232, 248, 236, 208, 234, 231, 223, 227, 226,\n",
              "        233, 232, 232, 230, 228, 224, 224, 235, 233, 234, 247, 235, 255,\n",
              "          0,   0],\n",
              "       [  0,   0,  83, 255, 225, 250, 237, 224, 236, 229, 225, 225, 227,\n",
              "        235, 229, 231, 230, 230, 227, 221, 227, 221, 239, 250, 231, 255,\n",
              "          0,   0],\n",
              "       [  0,   0,  20, 255, 224, 248, 234, 226, 232, 222, 225, 224, 231,\n",
              "        238, 226, 230, 228, 230, 230, 221, 229, 225, 244, 246, 230, 255,\n",
              "          0,   0],\n",
              "       [  0,   0,  95, 255, 218, 242, 255, 232, 226, 224, 229, 228, 228,\n",
              "        232, 228, 229, 231, 233, 232, 226, 221, 224, 247, 244, 228, 255,\n",
              "          0,   0],\n",
              "       [  0,   0, 167, 255, 213, 235, 255,  81, 245, 251, 238, 236, 230,\n",
              "        229, 230, 229, 230, 231, 238, 240, 255, 192, 255, 239, 228, 255,\n",
              "         23,   0],\n",
              "       [  0,   0, 173, 242, 224, 233, 255,   0, 136, 226, 239, 255, 229,\n",
              "        236, 236, 234, 233, 228, 251, 248, 200,  81, 255, 237, 225, 255,\n",
              "        101,   0],\n",
              "       [  0,   0, 172, 255, 226, 233, 255,   0,   0,   0,   0,   0,   8,\n",
              "         21,  22,  21,  20,  14,   0,   0,   0,   0, 255, 238, 229, 246,\n",
              "        178,   0],\n",
              "       [  0,   0,  16, 255, 236, 238, 252,   0,   0,   0,   0,   0,   0,\n",
              "          0,   0,   0,   0,   0,   0,   0,   0,   0, 222, 244, 222, 254,\n",
              "        119,   0],\n",
              "       [  0,   0,   0,  30, 228, 242, 163,   0,   0,   0,   0,   2,   4,\n",
              "          6,   5,   5,   4,   4,   2,   0,   1,   0, 151, 251, 235, 180,\n",
              "          0,   0],\n",
              "       [  0,   0,   0,   0, 234, 255, 191,   0,  11,   0,   0,   0,   0,\n",
              "          0,   0,   0,   0,   0,   0,   0,   4,   0, 103, 246, 247,  72,\n",
              "          0,   0],\n",
              "       [  0,   0,   0,   1,  95,  77,  52,   0,   4,   0,   0,   0,   0,\n",
              "          0,   0,   0,   0,   0,   0,   0,   3,   0,  82, 237, 231,  70,\n",
              "          0,   0]], dtype=uint8)"
            ],
            "text/html": [
              "<style>\n",
              "      .ndarray_repr .ndarray_raw_data {\n",
              "        display: none;\n",
              "      }\n",
              "      .ndarray_repr.show_array .ndarray_raw_data {\n",
              "        display: block;\n",
              "      }\n",
              "      .ndarray_repr.show_array .ndarray_image_preview {\n",
              "        display: none;\n",
              "      }\n",
              "      </style>\n",
              "      <div id=\"id-63031dc5-948d-4b99-b72b-9b8e85e2dc56\" class=\"ndarray_repr\"><pre>ndarray (28, 28) <button style=\"padding: 0 2px;\">show data</button></pre><img src=\"data:image/png;base64,iVBORw0KGgoAAAANSUhEUgAAABwAAAAcCAAAAABXZoBIAAACEUlEQVR4nF3Su2rVQRDH8e/M7v9ycvGaeMEoaGEriBAsRCtRBNHCyiew0kYEC99BFHwAW0EiljZWYiM+gWhQokRijMdz+e/ujMX/COKW+2Fmd367ACACcH4FOH6D/5bCyoOf7u7ueXK73wEBUOPdyWb0u/2xfXhuNFjYenUTtR7FeXPmW+3B53RUqjHV0to1xFHAub66QRXxXzsmZdDY+sXLOAiEgn+P2/PRxB0Q9yyHDn+NWaGwtj3cjWVzANxLGI8vUPpbnaWWgluv7lLq9gz9mYylIMlzSdMupy4xldHN2TynlsZt13alWDErBcmyN+cZxuDzRSpRUVUVtIRcVmZ4unJN48Zwd8c1oIPJcLVHUUsgKXjQIHjTNSE3dyACQ7RLorP4JUVvfmrX9pX3U2ZfI38foVhTjQeja4ICx6dN88nFZyrdQvRQf3QUjsxN5jpTUzON6qbTNk2iHwWFc5TaJzG5Oe5AN9pZjDmAQmKqskdNTbQ4GspkWIVZCK9xK5qneAzFjYDGKnuPV+i65brTGEunHoJWEw9mPV4iTbm1/8ig1aK41btOfGwTHESh/jVvPH+0Ifu9qatQFtu3D7HCVYBnvv6tn7FdPrC8tAvAt76MXgDs8e9b+b+/+mH4we4BcOzzzlMAjXVVxagIT9Lmyz749XpxhfnfmM3qQn6fFh73KHe3Npj+09TZHHcGfwBoywp9C1K22gAAAABJRU5ErkJggg==\" class=\"ndarray_image_preview\" /><pre class=\"ndarray_raw_data\">array([[  0,   0,   0,   0,   0,   1,   1,   0,   0,   0,   0,  63,  28,\n",
              "          0,   0,   0,  33,  85,   0,   0,   0,   0,   0,   0,   0,   0,\n",
              "          0,   0],\n",
              "       [  0,   0,   0,   0,   0,   2,   0,   0,  28, 126, 241, 255, 255,\n",
              "        255, 255, 255, 255, 252, 248, 111,   0,   0,   0,   2,   0,   0,\n",
              "          0,   0],\n",
              "       [  0,   0,   0,   0,   2,   0,   0, 206, 244, 251, 241, 230, 238,\n",
              "        221, 205, 230, 240, 230, 239, 251, 233, 165,   0,   0,   2,   0,\n",
              "          0,   0],\n",
              "       [  0,   0,   0,   1,   0,   0, 199, 251, 228, 234, 233, 236, 235,\n",
              "        245, 247, 237, 234, 239, 230, 230, 235, 255, 176,   0,   0,   1,\n",
              "          0,   0],\n",
              "       [  0,   0,   0,   0,   0,  81, 254, 226, 228, 239, 237, 236, 234,\n",
              "        232, 233, 235, 235, 236, 239, 237, 233, 225, 246,  73,   0,   0,\n",
              "          0,   0],\n",
              "       [  0,   0,   3,   0,   0, 255, 235, 239, 223, 234, 238, 236, 237,\n",
              "        236, 235, 235, 235, 235, 236, 235, 234, 230, 231, 255,  24,   0,\n",
              "          4,   0],\n",
              "       [  0,   0,   0,   0, 177, 239, 223, 254, 223, 232, 234, 234, 236,\n",
              "        236, 235, 235, 235, 235, 235, 234, 231, 233, 222, 246,  88,   0,\n",
              "          1,   0],\n",
              "       [  0,   0,   0,   0, 234, 239, 229, 255, 220, 232, 233, 232, 234,\n",
              "        235, 235, 235, 235, 235, 234, 233, 232, 230, 228, 254, 140,   0,\n",
              "          0,   0],\n",
              "       [  0,   0,   0,   0, 225, 240, 226, 255, 221, 227, 232, 228, 231,\n",
              "        230, 228, 229, 231, 230, 228, 228, 232, 223, 229, 244, 231,   0,\n",
              "          0,   0],\n",
              "       [  0,   0,   0,  47, 245, 231, 234, 249, 229, 221, 229, 225, 229,\n",
              "        227, 226, 227, 228, 227, 228, 229, 228, 224, 246, 240, 227,   0,\n",
              "          0,   0],\n",
              "       [  0,   0,   0,  51, 248, 230, 245, 246, 230, 226, 230, 227, 230,\n",
              "        229, 228, 229, 230, 228, 228, 231, 225, 227, 242, 237, 255,   0,\n",
              "          0,   0],\n",
              "       [  0,   0,   0, 101, 253, 229, 247, 241, 221, 233, 228, 227, 229,\n",
              "        228, 227, 228, 230, 227, 230, 234, 225, 229, 251, 229, 243,  55,\n",
              "          0,   0],\n",
              "       [  0,   0,   0, 102, 255, 227, 242, 241, 221, 234, 223, 230, 228,\n",
              "        231, 229, 231, 231, 227, 229, 241, 219, 236, 254, 225, 250, 167,\n",
              "          0,   0],\n",
              "       [  0,   0,   0,  90, 255, 229, 236, 231, 222, 236, 223, 231, 229,\n",
              "        231, 229, 231, 231, 228, 224, 245, 218, 243, 239, 227, 244, 175,\n",
              "          0,   0],\n",
              "       [  0,   0,   0, 212, 250, 225, 236, 249, 229, 237, 223, 231, 229,\n",
              "        231, 229, 231, 231, 230, 221, 243, 225, 248, 230, 236, 234, 255,\n",
              "          1,   0],\n",
              "       [  0,   0,   0, 245, 243, 232, 243, 218, 228, 238, 222, 231, 229,\n",
              "        231, 229, 231, 231, 230, 222, 237, 237, 252, 229, 239, 240, 223,\n",
              "          0,   0],\n",
              "       [  0,   0,  27, 255, 235, 242, 237, 216, 230, 236, 224, 229, 227,\n",
              "        233, 233, 233, 230, 228, 224, 230, 245, 247, 221, 243, 239, 252,\n",
              "          0,   0],\n",
              "       [  0,   0,  88, 255, 232, 248, 236, 208, 234, 231, 223, 227, 226,\n",
              "        233, 232, 232, 230, 228, 224, 224, 235, 233, 234, 247, 235, 255,\n",
              "          0,   0],\n",
              "       [  0,   0,  83, 255, 225, 250, 237, 224, 236, 229, 225, 225, 227,\n",
              "        235, 229, 231, 230, 230, 227, 221, 227, 221, 239, 250, 231, 255,\n",
              "          0,   0],\n",
              "       [  0,   0,  20, 255, 224, 248, 234, 226, 232, 222, 225, 224, 231,\n",
              "        238, 226, 230, 228, 230, 230, 221, 229, 225, 244, 246, 230, 255,\n",
              "          0,   0],\n",
              "       [  0,   0,  95, 255, 218, 242, 255, 232, 226, 224, 229, 228, 228,\n",
              "        232, 228, 229, 231, 233, 232, 226, 221, 224, 247, 244, 228, 255,\n",
              "          0,   0],\n",
              "       [  0,   0, 167, 255, 213, 235, 255,  81, 245, 251, 238, 236, 230,\n",
              "        229, 230, 229, 230, 231, 238, 240, 255, 192, 255, 239, 228, 255,\n",
              "         23,   0],\n",
              "       [  0,   0, 173, 242, 224, 233, 255,   0, 136, 226, 239, 255, 229,\n",
              "        236, 236, 234, 233, 228, 251, 248, 200,  81, 255, 237, 225, 255,\n",
              "        101,   0],\n",
              "       [  0,   0, 172, 255, 226, 233, 255,   0,   0,   0,   0,   0,   8,\n",
              "         21,  22,  21,  20,  14,   0,   0,   0,   0, 255, 238, 229, 246,\n",
              "        178,   0],\n",
              "       [  0,   0,  16, 255, 236, 238, 252,   0,   0,   0,   0,   0,   0,\n",
              "          0,   0,   0,   0,   0,   0,   0,   0,   0, 222, 244, 222, 254,\n",
              "        119,   0],\n",
              "       [  0,   0,   0,  30, 228, 242, 163,   0,   0,   0,   0,   2,   4,\n",
              "          6,   5,   5,   4,   4,   2,   0,   1,   0, 151, 251, 235, 180,\n",
              "          0,   0],\n",
              "       [  0,   0,   0,   0, 234, 255, 191,   0,  11,   0,   0,   0,   0,\n",
              "          0,   0,   0,   0,   0,   0,   0,   4,   0, 103, 246, 247,  72,\n",
              "          0,   0],\n",
              "       [  0,   0,   0,   1,  95,  77,  52,   0,   4,   0,   0,   0,   0,\n",
              "          0,   0,   0,   0,   0,   0,   0,   3,   0,  82, 237, 231,  70,\n",
              "          0,   0]], dtype=uint8)</pre></div><script>\n",
              "      (() => {\n",
              "      const titles = ['show data', 'hide data'];\n",
              "      let index = 0\n",
              "      document.querySelector('#id-63031dc5-948d-4b99-b72b-9b8e85e2dc56 button').onclick = (e) => {\n",
              "        document.querySelector('#id-63031dc5-948d-4b99-b72b-9b8e85e2dc56').classList.toggle('show_array');\n",
              "        index = (++index) % 2;\n",
              "        document.querySelector('#id-63031dc5-948d-4b99-b72b-9b8e85e2dc56 button').textContent = titles[index];\n",
              "        e.preventDefault();\n",
              "        e.stopPropagation();\n",
              "      }\n",
              "      })();\n",
              "    </script>"
            ]
          },
          "metadata": {},
          "execution_count": 12
        }
      ]
    },
    {
      "cell_type": "code",
      "source": [
        "plt.imshow(X_train[7])\n",
        "plt.show()"
      ],
      "metadata": {
        "colab": {
          "base_uri": "https://localhost:8080/",
          "height": 430
        },
        "id": "CU08YadZA5nl",
        "outputId": "2210126d-9fff-4c41-c0cb-a2e481b716d8"
      },
      "execution_count": null,
      "outputs": [
        {
          "output_type": "display_data",
          "data": {
            "text/plain": [
              "<Figure size 640x480 with 1 Axes>"
            ],
            "image/png": "[encoded data removed]"
          },
          "metadata": {}
        }
      ]
    },
    {
      "cell_type": "code",
      "source": [
        "y_train[7]"
      ],
      "metadata": {
        "colab": {
          "base_uri": "https://localhost:8080/"
        },
        "id": "Uy4vs8-2A5qT",
        "outputId": "ed25cd48-6956-44bd-e457-53a33f32da3d"
      },
      "execution_count": null,
      "outputs": [
        {
          "output_type": "execute_result",
          "data": {
            "text/plain": [
              "2"
            ]
          },
          "metadata": {},
          "execution_count": 14
        }
      ]
    },
    {
      "cell_type": "code",
      "source": [
        "X_train[1757]"
      ],
      "metadata": {
        "colab": {
          "base_uri": "https://localhost:8080/",
          "height": 69
        },
        "id": "9PLDXxO_A5tB",
        "outputId": "0a1aaa45-82cb-4ebe-9ca3-3f3309d1bf8e"
      },
      "execution_count": null,
      "outputs": [
        {
          "output_type": "execute_result",
          "data": {
            "text/plain": [
              "array([[  0,   0,   0,   0,   0,   0,   0,   0,   2,   0,   0, 127, 158,\n",
              "        156, 143, 144, 143,   0,   0,   1,   0,   0,   0,   0,   0,   0,\n",
              "          0,   0],\n",
              "       [  0,   0,   0,   0,   0,   1,   6,   0,   0,   0,  85, 246, 244,\n",
              "        242, 250, 247, 245,  85,   0,   0,   0,   6,   1,   1,   0,   0,\n",
              "          0,   0],\n",
              "       [  0,   0,   0,   0,   0,   0,   0,   0,   4, 100, 247, 214, 227,\n",
              "        249, 245, 212, 199, 235, 115,   1,   0,   0,   0,   0,   0,   0,\n",
              "          0,   0],\n",
              "       [  0,   0,   0,   0,   0,   0,  73, 184, 209, 223, 210, 215, 195,\n",
              "        250, 219, 194, 200, 208, 221, 197, 166,  68,   0,   0,   0,   0,\n",
              "          0,   0],\n",
              "       [  0,   0,   0,   0,   0,  83, 236, 217, 209, 208, 205, 204, 219,\n",
              "        208, 224, 202, 203, 203, 195, 204, 214, 227,  62,   0,   1,   0,\n",
              "          0,   0],\n",
              "       [  0,   0,   0,   0,   0, 194, 227, 204, 208, 216, 214, 218, 227,\n",
              "        197, 211, 220, 198, 207, 217, 206, 201, 223, 173,   0,   0,   0,\n",
              "          0,   0],\n",
              "       [  0,   0,   0,   0,  39, 233, 227, 215, 205, 205, 215, 208, 213,\n",
              "        213, 198, 204, 214, 215, 197, 207, 217, 221, 220,   4,   0,   0,\n",
              "          0,   0],\n",
              "       [  0,   0,   0,   0, 137, 238, 226, 235, 217, 207, 209, 211, 214,\n",
              "        217, 207, 212, 210, 201, 211, 222, 216, 220, 234,  95,   0,   0,\n",
              "          0,   0],\n",
              "       [  0,   0,   0,   0, 222, 230, 233, 238, 225, 224, 218, 216, 217,\n",
              "        202, 208, 213, 210, 218, 218, 215, 221, 218, 231, 180,   0,   0,\n",
              "          0,   0],\n",
              "       [  0,   0,   0,   0, 252, 221, 236, 227, 215, 218, 214, 210, 215,\n",
              "        211, 213, 215, 205, 206, 208, 206, 222, 222, 221, 237,   0,   0,\n",
              "          0,   0],\n",
              "       [  0,   0,   0,  41, 252, 220, 235, 216, 210, 222, 216, 212, 221,\n",
              "        216, 211, 222, 212, 215, 218, 215, 226, 224, 217, 251,   8,   0,\n",
              "          0,   0],\n",
              "       [  0,   0,   0,  81, 252, 217, 234, 252, 225, 225, 227, 233, 229,\n",
              "        221, 213, 222, 226, 227, 220, 212, 236, 228, 214, 251,  65,   0,\n",
              "          0,   0],\n",
              "       [  0,   0,   0, 131, 251, 217, 233, 252, 227, 226, 222, 218, 225,\n",
              "        222, 216, 224, 219, 213, 214, 224, 241, 233, 216, 250, 108,   0,\n",
              "          0,   0],\n",
              "       [  0,   0,   0, 164, 246, 218, 245, 213, 220, 227, 222, 225, 224,\n",
              "        219, 214, 222, 216, 214, 234, 213, 149, 249, 211, 246, 153,   0,\n",
              "          0,   0],\n",
              "       [  0,   0,   0, 183, 236, 224, 253, 172, 217, 228, 220, 218, 222,\n",
              "        223, 214, 211, 214, 221, 229, 207, 138, 253, 210, 236, 184,   0,\n",
              "          0,   0],\n",
              "       [  0,   0,   0, 200, 230, 217, 252, 138, 208, 238, 223, 220, 224,\n",
              "        219, 214, 219, 225, 221, 225, 210, 145, 253, 212, 231, 188,   0,\n",
              "          0,   0],\n",
              "       [  0,   0,   0, 208, 220, 209, 253, 100, 203, 232, 221, 221, 225,\n",
              "        223, 216, 222, 222, 217, 224, 211, 134, 253, 214, 230, 193,   0,\n",
              "          0,   0],\n",
              "       [  0,   0,   0, 207, 228, 228, 255,  77, 232, 225, 217, 222, 224,\n",
              "        217, 209, 222, 221, 212, 226, 214, 125, 253, 215, 233, 197,   0,\n",
              "          0,   0],\n",
              "       [  0,   0,   0, 211, 230, 218, 254,  70, 251, 236, 213, 222, 227,\n",
              "        222, 220, 221, 215, 213, 230, 216, 124, 252, 212, 231, 194,   0,\n",
              "          0,   0],\n",
              "       [  0,   0,   0, 202, 235, 216, 253,  88, 251, 232, 222, 214, 225,\n",
              "        224, 219, 218, 211, 222, 229, 221, 111, 252, 212, 233, 186,   0,\n",
              "          0,   0],\n",
              "       [  0,   0,   0, 185, 238, 217, 253,  78, 251, 230, 228, 223, 223,\n",
              "        225, 218, 219, 221, 223, 223, 227,  86, 253, 213, 236, 176,   0,\n",
              "          0,   0],\n",
              "       [  0,   0,   0, 173, 243, 219, 253,  74, 251, 231, 230, 224, 225,\n",
              "        216, 216, 225, 219, 219, 222, 237,  70, 253, 218, 241, 167,   0,\n",
              "          0,   0],\n",
              "       [  0,   0,   0, 148, 250, 220, 252,  65, 251, 227, 236, 225, 225,\n",
              "        222, 217, 223, 222, 224, 218, 242,  60, 252, 217, 249, 139,   0,\n",
              "          0,   0],\n",
              "       [  0,   0,   0, 118, 233, 221, 249,  64, 252, 222, 235, 225, 225,\n",
              "        226, 218, 225, 224, 222, 215, 247,  63, 252, 219, 233, 112,   0,\n",
              "          0,   0],\n",
              "       [  0,   0,   0,  95, 239, 222, 237,  58, 253, 222, 229, 229, 229,\n",
              "        225, 218, 226, 222, 221, 217, 247,  60, 247, 221, 235,  88,   0,\n",
              "          0,   0],\n",
              "       [  0,   0,   0,  80, 235, 220, 202,  65, 252, 226, 228, 227, 229,\n",
              "        225, 217, 217, 217, 219, 219, 236,  77, 212, 214, 230,  71,   0,\n",
              "          0,   0],\n",
              "       [  0,   0,   0,  90, 250, 233, 255,  56, 234, 251, 225, 229, 232,\n",
              "        233, 231, 230, 226, 221, 251, 229,  57, 237, 230, 243,  80,   0,\n",
              "          0,   0],\n",
              "       [  0,   0,   0,  21, 131,  96, 120,   0,   0,   0,   0,  10,  14,\n",
              "         52,  64,  53,  41,   4,   0,   0,   0, 118,  86, 107,   6,   0,\n",
              "          0,   0]], dtype=uint8)"
            ],
            "text/html": [
              "<style>\n",
              "      .ndarray_repr .ndarray_raw_data {\n",
              "        display: none;\n",
              "      }\n",
              "      .ndarray_repr.show_array .ndarray_raw_data {\n",
              "        display: block;\n",
              "      }\n",
              "      .ndarray_repr.show_array .ndarray_image_preview {\n",
              "        display: none;\n",
              "      }\n",
              "      </style>\n",
              "      <div id=\"id-88bb430a-4032-4809-ab94-0c772d1a1470\" class=\"ndarray_repr\"><pre>ndarray (28, 28) <button style=\"padding: 0 2px;\">show data</button></pre><img src=\"data:image/png;base64,iVBORw0KGgoAAAANSUhEUgAAABwAAAAcCAAAAABXZoBIAAACGUlEQVR4nFXRu04VURQG4H+tfTkzc65wgEihxGgUY2xsjI9gYmeo6Iw9MT6ANY9gY+Uz2GhFo42d0aiBiDcuInA4Z2bOzOy9l4UbgqtayZc//0oWIQ4HPF0KY5LHIMH5IQtgpZic1GW+AsAS/ef6Ufnhe5W/f/P7yRnE5d7aYm9sDu5s79iku7v9/PU5fPDsz1S89PPBPmGaZt3VDRKAAQBr5ViStJfk49lGL/DYrUFOk9c36kmBrDIY2YwOs0zLskNMPjQy1+FakU4Td9Lri/RWzzq3EmXGUgcaWeMTeOu77+6fotvulxPlnHHMBXEYQAZDABrADYjkTSuwpSb1Snkdql4y/de5DC9X+6o9nxhGr8M+0x5340G3BQKmZuRIcXVSd4xhuRnxckOdTxWhJT4ET3P5i0HjbkUcFjb56ClUQSMPrabOtRRLEWfqSrbKTDE7JG041QI3OmJSTOlzUwcizco7oRwsJqIkQ967WDmSuoI0rEqQOk1qLqQath2UaUtNmkV88BFLE2QWLp0GFu9SMWOApxGPFKFAsGkgoYxqu0OkiogTw3AgJi6DDU6yYxhTRtxpkZRwlmApKONMIZL8iPjtiLxQI4Am5uCNAh//jLhnaVITaq0FFIThG+bd+LKRC5st0SIMKcGcz2xycxQx64cr5eHiL620Fddc2j9YrLppxFfrmxfeLgCZvtbJJ18csP51/iWAv1qxCeyP2cd0AAAAAElFTkSuQmCC\" class=\"ndarray_image_preview\" /><pre class=\"ndarray_raw_data\">array([[  0,   0,   0,   0,   0,   0,   0,   0,   2,   0,   0, 127, 158,\n",
              "        156, 143, 144, 143,   0,   0,   1,   0,   0,   0,   0,   0,   0,\n",
              "          0,   0],\n",
              "       [  0,   0,   0,   0,   0,   1,   6,   0,   0,   0,  85, 246, 244,\n",
              "        242, 250, 247, 245,  85,   0,   0,   0,   6,   1,   1,   0,   0,\n",
              "          0,   0],\n",
              "       [  0,   0,   0,   0,   0,   0,   0,   0,   4, 100, 247, 214, 227,\n",
              "        249, 245, 212, 199, 235, 115,   1,   0,   0,   0,   0,   0,   0,\n",
              "          0,   0],\n",
              "       [  0,   0,   0,   0,   0,   0,  73, 184, 209, 223, 210, 215, 195,\n",
              "        250, 219, 194, 200, 208, 221, 197, 166,  68,   0,   0,   0,   0,\n",
              "          0,   0],\n",
              "       [  0,   0,   0,   0,   0,  83, 236, 217, 209, 208, 205, 204, 219,\n",
              "        208, 224, 202, 203, 203, 195, 204, 214, 227,  62,   0,   1,   0,\n",
              "          0,   0],\n",
              "       [  0,   0,   0,   0,   0, 194, 227, 204, 208, 216, 214, 218, 227,\n",
              "        197, 211, 220, 198, 207, 217, 206, 201, 223, 173,   0,   0,   0,\n",
              "          0,   0],\n",
              "       [  0,   0,   0,   0,  39, 233, 227, 215, 205, 205, 215, 208, 213,\n",
              "        213, 198, 204, 214, 215, 197, 207, 217, 221, 220,   4,   0,   0,\n",
              "          0,   0],\n",
              "       [  0,   0,   0,   0, 137, 238, 226, 235, 217, 207, 209, 211, 214,\n",
              "        217, 207, 212, 210, 201, 211, 222, 216, 220, 234,  95,   0,   0,\n",
              "          0,   0],\n",
              "       [  0,   0,   0,   0, 222, 230, 233, 238, 225, 224, 218, 216, 217,\n",
              "        202, 208, 213, 210, 218, 218, 215, 221, 218, 231, 180,   0,   0,\n",
              "          0,   0],\n",
              "       [  0,   0,   0,   0, 252, 221, 236, 227, 215, 218, 214, 210, 215,\n",
              "        211, 213, 215, 205, 206, 208, 206, 222, 222, 221, 237,   0,   0,\n",
              "          0,   0],\n",
              "       [  0,   0,   0,  41, 252, 220, 235, 216, 210, 222, 216, 212, 221,\n",
              "        216, 211, 222, 212, 215, 218, 215, 226, 224, 217, 251,   8,   0,\n",
              "          0,   0],\n",
              "       [  0,   0,   0,  81, 252, 217, 234, 252, 225, 225, 227, 233, 229,\n",
              "        221, 213, 222, 226, 227, 220, 212, 236, 228, 214, 251,  65,   0,\n",
              "          0,   0],\n",
              "       [  0,   0,   0, 131, 251, 217, 233, 252, 227, 226, 222, 218, 225,\n",
              "        222, 216, 224, 219, 213, 214, 224, 241, 233, 216, 250, 108,   0,\n",
              "          0,   0],\n",
              "       [  0,   0,   0, 164, 246, 218, 245, 213, 220, 227, 222, 225, 224,\n",
              "        219, 214, 222, 216, 214, 234, 213, 149, 249, 211, 246, 153,   0,\n",
              "          0,   0],\n",
              "       [  0,   0,   0, 183, 236, 224, 253, 172, 217, 228, 220, 218, 222,\n",
              "        223, 214, 211, 214, 221, 229, 207, 138, 253, 210, 236, 184,   0,\n",
              "          0,   0],\n",
              "       [  0,   0,   0, 200, 230, 217, 252, 138, 208, 238, 223, 220, 224,\n",
              "        219, 214, 219, 225, 221, 225, 210, 145, 253, 212, 231, 188,   0,\n",
              "          0,   0],\n",
              "       [  0,   0,   0, 208, 220, 209, 253, 100, 203, 232, 221, 221, 225,\n",
              "        223, 216, 222, 222, 217, 224, 211, 134, 253, 214, 230, 193,   0,\n",
              "          0,   0],\n",
              "       [  0,   0,   0, 207, 228, 228, 255,  77, 232, 225, 217, 222, 224,\n",
              "        217, 209, 222, 221, 212, 226, 214, 125, 253, 215, 233, 197,   0,\n",
              "          0,   0],\n",
              "       [  0,   0,   0, 211, 230, 218, 254,  70, 251, 236, 213, 222, 227,\n",
              "        222, 220, 221, 215, 213, 230, 216, 124, 252, 212, 231, 194,   0,\n",
              "          0,   0],\n",
              "       [  0,   0,   0, 202, 235, 216, 253,  88, 251, 232, 222, 214, 225,\n",
              "        224, 219, 218, 211, 222, 229, 221, 111, 252, 212, 233, 186,   0,\n",
              "          0,   0],\n",
              "       [  0,   0,   0, 185, 238, 217, 253,  78, 251, 230, 228, 223, 223,\n",
              "        225, 218, 219, 221, 223, 223, 227,  86, 253, 213, 236, 176,   0,\n",
              "          0,   0],\n",
              "       [  0,   0,   0, 173, 243, 219, 253,  74, 251, 231, 230, 224, 225,\n",
              "        216, 216, 225, 219, 219, 222, 237,  70, 253, 218, 241, 167,   0,\n",
              "          0,   0],\n",
              "       [  0,   0,   0, 148, 250, 220, 252,  65, 251, 227, 236, 225, 225,\n",
              "        222, 217, 223, 222, 224, 218, 242,  60, 252, 217, 249, 139,   0,\n",
              "          0,   0],\n",
              "       [  0,   0,   0, 118, 233, 221, 249,  64, 252, 222, 235, 225, 225,\n",
              "        226, 218, 225, 224, 222, 215, 247,  63, 252, 219, 233, 112,   0,\n",
              "          0,   0],\n",
              "       [  0,   0,   0,  95, 239, 222, 237,  58, 253, 222, 229, 229, 229,\n",
              "        225, 218, 226, 222, 221, 217, 247,  60, 247, 221, 235,  88,   0,\n",
              "          0,   0],\n",
              "       [  0,   0,   0,  80, 235, 220, 202,  65, 252, 226, 228, 227, 229,\n",
              "        225, 217, 217, 217, 219, 219, 236,  77, 212, 214, 230,  71,   0,\n",
              "          0,   0],\n",
              "       [  0,   0,   0,  90, 250, 233, 255,  56, 234, 251, 225, 229, 232,\n",
              "        233, 231, 230, 226, 221, 251, 229,  57, 237, 230, 243,  80,   0,\n",
              "          0,   0],\n",
              "       [  0,   0,   0,  21, 131,  96, 120,   0,   0,   0,   0,  10,  14,\n",
              "         52,  64,  53,  41,   4,   0,   0,   0, 118,  86, 107,   6,   0,\n",
              "          0,   0]], dtype=uint8)</pre></div><script>\n",
              "      (() => {\n",
              "      const titles = ['show data', 'hide data'];\n",
              "      let index = 0\n",
              "      document.querySelector('#id-88bb430a-4032-4809-ab94-0c772d1a1470 button').onclick = (e) => {\n",
              "        document.querySelector('#id-88bb430a-4032-4809-ab94-0c772d1a1470').classList.toggle('show_array');\n",
              "        index = (++index) % 2;\n",
              "        document.querySelector('#id-88bb430a-4032-4809-ab94-0c772d1a1470 button').textContent = titles[index];\n",
              "        e.preventDefault();\n",
              "        e.stopPropagation();\n",
              "      }\n",
              "      })();\n",
              "    </script>"
            ]
          },
          "metadata": {},
          "execution_count": 15
        }
      ]
    },
    {
      "cell_type": "code",
      "source": [
        "plt.imshow(X_train[1757])\n",
        "plt.show()"
      ],
      "metadata": {
        "colab": {
          "base_uri": "https://localhost:8080/",
          "height": 430
        },
        "id": "3BlTVFluA5v2",
        "outputId": "f177e9ac-f104-4823-d486-42b8961b1206"
      },
      "execution_count": null,
      "outputs": [
        {
          "output_type": "display_data",
          "data": {
            "text/plain": [
              "<Figure size 640x480 with 1 Axes>"
            ],
            "image/png": "[encoded data removed]"
          },
          "metadata": {}
        }
      ]
    },
    {
      "cell_type": "code",
      "source": [
        "y_train[1757]"
      ],
      "metadata": {
        "colab": {
          "base_uri": "https://localhost:8080/"
        },
        "id": "cQboFsY-A5yh",
        "outputId": "3522e343-3a70-4eec-81b2-b72e91c9bdbf"
      },
      "execution_count": null,
      "outputs": [
        {
          "output_type": "execute_result",
          "data": {
            "text/plain": [
              "4"
            ]
          },
          "metadata": {},
          "execution_count": 17
        }
      ]
    },
    {
      "cell_type": "code",
      "source": [
        "X_train[5030]"
      ],
      "metadata": {
        "colab": {
          "base_uri": "https://localhost:8080/"
        },
        "id": "NDPiH89wA51Q",
        "outputId": "3ca2a166-297b-403f-cdc9-bbd870aeb137"
      },
      "execution_count": null,
      "outputs": [
        {
          "output_type": "execute_result",
          "data": {
            "text/plain": [
              "array([[0.        , 0.        , 0.        , 0.        , 0.        ,\n",
              "        0.        , 0.        , 0.        , 0.        , 0.        ,\n",
              "        0.        , 0.        , 0.        , 0.        , 0.        ,\n",
              "        0.        , 0.        , 0.        , 0.        , 0.        ,\n",
              "        0.        , 0.        , 0.        , 0.        , 0.        ,\n",
              "        0.        , 0.        , 0.        ],\n",
              "       [0.        , 0.        , 0.        , 0.        , 0.        ,\n",
              "        0.        , 0.        , 0.        , 0.        , 0.        ,\n",
              "        0.        , 0.        , 0.        , 0.        , 0.        ,\n",
              "        0.        , 0.        , 0.        , 0.        , 0.        ,\n",
              "        0.        , 0.        , 0.        , 0.        , 0.        ,\n",
              "        0.        , 0.        , 0.        ],\n",
              "       [0.        , 0.        , 0.        , 0.        , 0.        ,\n",
              "        0.        , 0.        , 0.        , 0.        , 0.        ,\n",
              "        0.        , 0.        , 0.        , 0.        , 0.        ,\n",
              "        0.        , 0.        , 0.        , 0.        , 0.        ,\n",
              "        0.        , 0.        , 0.        , 0.        , 0.        ,\n",
              "        0.        , 0.        , 0.        ],\n",
              "       [0.        , 0.        , 0.        , 0.        , 0.        ,\n",
              "        0.        , 0.        , 0.        , 0.        , 0.        ,\n",
              "        0.        , 0.        , 0.        , 0.        , 0.        ,\n",
              "        0.        , 0.        , 0.        , 0.        , 0.        ,\n",
              "        0.        , 0.        , 0.        , 0.        , 0.        ,\n",
              "        0.        , 0.        , 0.        ],\n",
              "       [0.        , 0.        , 0.        , 0.        , 0.        ,\n",
              "        0.        , 0.        , 0.        , 0.        , 0.        ,\n",
              "        0.        , 0.        , 0.        , 0.        , 0.        ,\n",
              "        0.        , 0.        , 0.        , 0.        , 0.        ,\n",
              "        0.        , 0.        , 0.        , 0.        , 0.        ,\n",
              "        0.        , 0.        , 0.        ],\n",
              "       [0.        , 0.        , 0.        , 0.        , 0.        ,\n",
              "        0.        , 0.        , 0.        , 0.        , 0.        ,\n",
              "        0.        , 0.        , 0.        , 0.01176471, 0.02352941,\n",
              "        0.01176471, 0.        , 0.        , 0.        , 0.        ,\n",
              "        0.        , 0.        , 0.        , 0.42745098, 0.37647059,\n",
              "        0.        , 0.00784314, 0.        ],\n",
              "       [0.        , 0.        , 0.        , 0.        , 0.        ,\n",
              "        0.        , 0.        , 0.        , 0.        , 0.        ,\n",
              "        0.        , 0.        , 0.        , 0.        , 0.        ,\n",
              "        0.        , 0.        , 0.01568627, 0.00392157, 0.        ,\n",
              "        0.        , 0.        , 0.13333333, 0.83529412, 0.83137255,\n",
              "        0.07058824, 0.        , 0.01176471],\n",
              "       [0.        , 0.        , 0.        , 0.        , 0.        ,\n",
              "        0.        , 0.        , 0.        , 0.        , 0.        ,\n",
              "        0.        , 0.01568627, 0.        , 0.12941176, 0.37254902,\n",
              "        0.        , 0.        , 0.        , 0.        , 0.        ,\n",
              "        0.        , 0.        , 0.76470588, 0.90980392, 0.52941176,\n",
              "        0.        , 0.00784314, 0.        ],\n",
              "       [0.        , 0.        , 0.        , 0.        , 0.        ,\n",
              "        0.        , 0.        , 0.        , 0.        , 0.        ,\n",
              "        0.00392157, 0.00392157, 0.        , 0.64313725, 0.84313725,\n",
              "        0.70980392, 0.39215686, 0.15686275, 0.        , 0.        ,\n",
              "        0.        , 0.79607843, 0.90588235, 0.71372549, 0.        ,\n",
              "        0.        , 0.00784314, 0.        ],\n",
              "       [0.        , 0.        , 0.        , 0.        , 0.        ,\n",
              "        0.        , 0.        , 0.        , 0.        , 0.        ,\n",
              "        0.00784314, 0.        , 0.08627451, 0.53333333, 0.60784314,\n",
              "        0.7372549 , 0.84705882, 0.7372549 , 0.69411765, 0.21568627,\n",
              "        0.54117647, 0.88627451, 0.85490196, 0.14117647, 0.        ,\n",
              "        0.01568627, 0.01568627, 0.00784314],\n",
              "       [0.        , 0.        , 0.        , 0.        , 0.        ,\n",
              "        0.        , 0.        , 0.        , 0.        , 0.        ,\n",
              "        0.        , 0.        , 0.        , 0.        , 0.        ,\n",
              "        0.10588235, 0.17647059, 0.18039216, 1.        , 0.74117647,\n",
              "        0.80784314, 0.90196078, 0.62745098, 0.        , 0.        ,\n",
              "        0.01960784, 0.        , 0.        ],\n",
              "       [0.        , 0.        , 0.        , 0.        , 0.        ,\n",
              "        0.        , 0.        , 0.        , 0.        , 0.        ,\n",
              "        0.        , 0.        , 0.        , 0.00392157, 0.        ,\n",
              "        0.        , 0.        , 0.        , 0.        , 0.73333333,\n",
              "        0.83921569, 0.87843137, 0.11372549, 0.        , 0.        ,\n",
              "        0.        , 0.05098039, 0.12156863],\n",
              "       [0.        , 0.        , 0.        , 0.        , 0.        ,\n",
              "        0.        , 0.        , 0.        , 0.        , 0.        ,\n",
              "        0.        , 0.        , 0.00392157, 0.00392157, 0.00392157,\n",
              "        0.01176471, 0.01176471, 0.        , 0.        , 0.96862745,\n",
              "        0.85882353, 0.99607843, 0.43921569, 0.        , 0.17647059,\n",
              "        0.57647059, 0.84705882, 0.50588235],\n",
              "       [0.        , 0.        , 0.        , 0.        , 0.        ,\n",
              "        0.        , 0.        , 0.        , 0.        , 0.        ,\n",
              "        0.        , 0.        , 0.        , 0.        , 0.        ,\n",
              "        0.        , 0.01176471, 0.        , 0.16862745, 0.88235294,\n",
              "        0.81960784, 0.78431373, 0.49411765, 0.85490196, 1.        ,\n",
              "        0.89411765, 0.87843137, 0.09803922],\n",
              "       [0.        , 0.        , 0.        , 0.        , 0.        ,\n",
              "        0.        , 0.        , 0.        , 0.00392157, 0.        ,\n",
              "        0.        , 0.        , 0.        , 0.        , 0.        ,\n",
              "        0.        , 0.00784314, 0.        , 0.27843137, 0.89803922,\n",
              "        0.85098039, 0.8745098 , 0.95686275, 0.91372549, 0.81568627,\n",
              "        0.81568627, 0.80392157, 0.00784314],\n",
              "       [0.        , 0.00392157, 0.        , 0.        , 0.        ,\n",
              "        0.00784314, 0.02745098, 0.        , 0.        , 0.        ,\n",
              "        0.        , 0.        , 0.        , 0.        , 0.        ,\n",
              "        0.        , 0.        , 0.        , 0.70588235, 0.9254902 ,\n",
              "        0.69411765, 0.56862745, 0.92941176, 0.74509804, 0.81960784,\n",
              "        0.83529412, 0.87058824, 0.        ],\n",
              "       [0.        , 0.00784314, 0.        , 0.00392157, 0.01568627,\n",
              "        0.        , 0.        , 0.        , 0.        , 0.        ,\n",
              "        0.        , 0.        , 0.        , 0.01176471, 0.01568627,\n",
              "        0.        , 0.04313725, 0.81176471, 0.85490196, 0.46666667,\n",
              "        0.        , 0.24313725, 1.        , 0.79607843, 0.80392157,\n",
              "        0.85882353, 0.79215686, 0.        ],\n",
              "       [0.        , 0.        , 0.        , 0.        , 0.        ,\n",
              "        0.03137255, 0.23529412, 0.81568627, 0.18039216, 0.        ,\n",
              "        0.01960784, 0.        , 0.        , 0.02352941, 0.        ,\n",
              "        0.1254902 , 0.8745098 , 0.65490196, 0.00784314, 0.        ,\n",
              "        0.        , 0.18823529, 1.        , 0.81960784, 0.83137255,\n",
              "        0.88235294, 0.7372549 , 0.        ],\n",
              "       [0.01176471, 0.03921569, 0.        , 0.01568627, 0.75686275,\n",
              "        0.71372549, 0.78039216, 0.80784314, 0.37254902, 0.        ,\n",
              "        0.        , 0.        , 0.        , 0.        , 0.11764706,\n",
              "        0.92156863, 0.56470588, 0.        , 0.        , 0.        ,\n",
              "        0.        , 0.05098039, 1.        , 0.83921569, 0.82745098,\n",
              "        0.88235294, 0.65098039, 0.        ],\n",
              "       [0.        , 0.        , 0.        , 0.        , 0.68627451,\n",
              "        0.80392157, 0.73333333, 0.77647059, 0.96078431, 0.        ,\n",
              "        0.        , 0.        , 0.        , 0.0627451 , 0.89019608,\n",
              "        0.58823529, 0.        , 0.        , 0.        , 0.        ,\n",
              "        0.        , 0.        , 0.83529412, 0.83529412, 0.80784314,\n",
              "        0.87843137, 0.55686275, 0.        ],\n",
              "       [0.3254902 , 0.72941176, 0.6       , 0.45490196, 0.63529412,\n",
              "        0.80784314, 0.75686275, 0.76078431, 0.78039216, 0.08235294,\n",
              "        0.        , 0.        , 0.19215686, 0.88627451, 0.65490196,\n",
              "        0.        , 0.        , 0.01960784, 0.        , 0.00392157,\n",
              "        0.        , 0.        , 0.8       , 0.84705882, 0.81960784,\n",
              "        0.90196078, 0.55294118, 0.        ],\n",
              "       [0.17254902, 0.64705882, 0.78823529, 0.84705882, 0.96078431,\n",
              "        0.83921569, 0.85098039, 0.85098039, 0.87843137, 0.8       ,\n",
              "        0.55686275, 0.90196078, 0.84313725, 0.55686275, 0.        ,\n",
              "        0.        , 0.00784314, 0.        , 0.        , 0.00392157,\n",
              "        0.        , 0.        , 0.90980392, 0.84705882, 0.79607843,\n",
              "        0.85098039, 0.46666667, 0.        ],\n",
              "       [0.        , 0.        , 0.        , 0.        , 0.05098039,\n",
              "        0.16470588, 0.25098039, 0.4       , 0.50588235, 0.64313725,\n",
              "        0.66666667, 0.45098039, 0.09411765, 0.        , 0.        ,\n",
              "        0.        , 0.        , 0.        , 0.        , 0.        ,\n",
              "        0.        , 0.        , 0.18039216, 0.20784314, 0.09803922,\n",
              "        0.13333333, 0.00392157, 0.        ],\n",
              "       [0.        , 0.        , 0.        , 0.        , 0.        ,\n",
              "        0.        , 0.        , 0.        , 0.        , 0.        ,\n",
              "        0.        , 0.        , 0.        , 0.        , 0.        ,\n",
              "        0.        , 0.        , 0.        , 0.        , 0.        ,\n",
              "        0.        , 0.        , 0.        , 0.        , 0.        ,\n",
              "        0.        , 0.        , 0.        ],\n",
              "       [0.        , 0.        , 0.        , 0.        , 0.        ,\n",
              "        0.        , 0.        , 0.        , 0.        , 0.        ,\n",
              "        0.        , 0.        , 0.        , 0.        , 0.        ,\n",
              "        0.        , 0.        , 0.        , 0.        , 0.        ,\n",
              "        0.        , 0.        , 0.        , 0.        , 0.        ,\n",
              "        0.        , 0.        , 0.        ],\n",
              "       [0.        , 0.        , 0.        , 0.        , 0.        ,\n",
              "        0.        , 0.        , 0.        , 0.        , 0.        ,\n",
              "        0.        , 0.        , 0.        , 0.        , 0.        ,\n",
              "        0.        , 0.        , 0.        , 0.        , 0.        ,\n",
              "        0.        , 0.        , 0.        , 0.        , 0.        ,\n",
              "        0.        , 0.        , 0.        ],\n",
              "       [0.        , 0.        , 0.        , 0.        , 0.        ,\n",
              "        0.        , 0.        , 0.        , 0.        , 0.        ,\n",
              "        0.        , 0.        , 0.        , 0.        , 0.        ,\n",
              "        0.        , 0.        , 0.        , 0.        , 0.        ,\n",
              "        0.        , 0.        , 0.        , 0.        , 0.        ,\n",
              "        0.        , 0.        , 0.        ],\n",
              "       [0.        , 0.        , 0.        , 0.        , 0.        ,\n",
              "        0.        , 0.        , 0.        , 0.        , 0.        ,\n",
              "        0.        , 0.        , 0.        , 0.        , 0.        ,\n",
              "        0.        , 0.        , 0.        , 0.        , 0.        ,\n",
              "        0.        , 0.        , 0.        , 0.        , 0.        ,\n",
              "        0.        , 0.        , 0.        ]])"
            ]
          },
          "metadata": {},
          "execution_count": 37
        }
      ]
    },
    {
      "cell_type": "code",
      "source": [
        "plt.imshow(X_train[5030])\n",
        "plt.show()"
      ],
      "metadata": {
        "colab": {
          "base_uri": "https://localhost:8080/",
          "height": 430
        },
        "id": "vGMAOP7UA54l",
        "outputId": "ad07daed-deea-4d2a-b93a-a132a452e0d5"
      },
      "execution_count": null,
      "outputs": [
        {
          "output_type": "display_data",
          "data": {
            "text/plain": [
              "<Figure size 640x480 with 1 Axes>"
            ],
            "image/png": "[encoded data removed]"
          },
          "metadata": {}
        }
      ]
    },
    {
      "cell_type": "code",
      "source": [
        "y_train[5030]"
      ],
      "metadata": {
        "colab": {
          "base_uri": "https://localhost:8080/"
        },
        "id": "NLD5dj5oA58y",
        "outputId": "47b39766-95f9-4627-c010-8d16eab5878b"
      },
      "execution_count": null,
      "outputs": [
        {
          "output_type": "execute_result",
          "data": {
            "text/plain": [
              "5"
            ]
          },
          "metadata": {},
          "execution_count": 39
        }
      ]
    },
    {
      "cell_type": "code",
      "source": [
        "X_train = X_train/255\n",
        "X_test = X_test/255"
      ],
      "metadata": {
        "id": "yJzHcJ7RA5-Z"
      },
      "execution_count": null,
      "outputs": []
    },
    {
      "cell_type": "code",
      "source": [
        "X_train[7]"
      ],
      "metadata": {
        "colab": {
          "base_uri": "https://localhost:8080/"
        },
        "id": "FTqEeE3KA5_x",
        "outputId": "e80820e2-05ee-4d91-e5bb-e62fc24193bb"
      },
      "execution_count": null,
      "outputs": [
        {
          "output_type": "execute_result",
          "data": {
            "text/plain": [
              "array([[0.        , 0.        , 0.        , 0.        , 0.        ,\n",
              "        0.00392157, 0.00392157, 0.        , 0.        , 0.        ,\n",
              "        0.        , 0.24705882, 0.10980392, 0.        , 0.        ,\n",
              "        0.        , 0.12941176, 0.33333333, 0.        , 0.        ,\n",
              "        0.        , 0.        , 0.        , 0.        , 0.        ,\n",
              "        0.        , 0.        , 0.        ],\n",
              "       [0.        , 0.        , 0.        , 0.        , 0.        ,\n",
              "        0.00784314, 0.        , 0.        , 0.10980392, 0.49411765,\n",
              "        0.94509804, 1.        , 1.        , 1.        , 1.        ,\n",
              "        1.        , 1.        , 0.98823529, 0.97254902, 0.43529412,\n",
              "        0.        , 0.        , 0.        , 0.00784314, 0.        ,\n",
              "        0.        , 0.        , 0.        ],\n",
              "       [0.        , 0.        , 0.        , 0.        , 0.00784314,\n",
              "        0.        , 0.        , 0.80784314, 0.95686275, 0.98431373,\n",
              "        0.94509804, 0.90196078, 0.93333333, 0.86666667, 0.80392157,\n",
              "        0.90196078, 0.94117647, 0.90196078, 0.9372549 , 0.98431373,\n",
              "        0.91372549, 0.64705882, 0.        , 0.        , 0.00784314,\n",
              "        0.        , 0.        , 0.        ],\n",
              "       [0.        , 0.        , 0.        , 0.00392157, 0.        ,\n",
              "        0.        , 0.78039216, 0.98431373, 0.89411765, 0.91764706,\n",
              "        0.91372549, 0.9254902 , 0.92156863, 0.96078431, 0.96862745,\n",
              "        0.92941176, 0.91764706, 0.9372549 , 0.90196078, 0.90196078,\n",
              "        0.92156863, 1.        , 0.69019608, 0.        , 0.        ,\n",
              "        0.00392157, 0.        , 0.        ],\n",
              "       [0.        , 0.        , 0.        , 0.        , 0.        ,\n",
              "        0.31764706, 0.99607843, 0.88627451, 0.89411765, 0.9372549 ,\n",
              "        0.92941176, 0.9254902 , 0.91764706, 0.90980392, 0.91372549,\n",
              "        0.92156863, 0.92156863, 0.9254902 , 0.9372549 , 0.92941176,\n",
              "        0.91372549, 0.88235294, 0.96470588, 0.28627451, 0.        ,\n",
              "        0.        , 0.        , 0.        ],\n",
              "       [0.        , 0.        , 0.01176471, 0.        , 0.        ,\n",
              "        1.        , 0.92156863, 0.9372549 , 0.8745098 , 0.91764706,\n",
              "        0.93333333, 0.9254902 , 0.92941176, 0.9254902 , 0.92156863,\n",
              "        0.92156863, 0.92156863, 0.92156863, 0.9254902 , 0.92156863,\n",
              "        0.91764706, 0.90196078, 0.90588235, 1.        , 0.09411765,\n",
              "        0.        , 0.01568627, 0.        ],\n",
              "       [0.        , 0.        , 0.        , 0.        , 0.69411765,\n",
              "        0.9372549 , 0.8745098 , 0.99607843, 0.8745098 , 0.90980392,\n",
              "        0.91764706, 0.91764706, 0.9254902 , 0.9254902 , 0.92156863,\n",
              "        0.92156863, 0.92156863, 0.92156863, 0.92156863, 0.91764706,\n",
              "        0.90588235, 0.91372549, 0.87058824, 0.96470588, 0.34509804,\n",
              "        0.        , 0.00392157, 0.        ],\n",
              "       [0.        , 0.        , 0.        , 0.        , 0.91764706,\n",
              "        0.9372549 , 0.89803922, 1.        , 0.8627451 , 0.90980392,\n",
              "        0.91372549, 0.90980392, 0.91764706, 0.92156863, 0.92156863,\n",
              "        0.92156863, 0.92156863, 0.92156863, 0.91764706, 0.91372549,\n",
              "        0.90980392, 0.90196078, 0.89411765, 0.99607843, 0.54901961,\n",
              "        0.        , 0.        , 0.        ],\n",
              "       [0.        , 0.        , 0.        , 0.        , 0.88235294,\n",
              "        0.94117647, 0.88627451, 1.        , 0.86666667, 0.89019608,\n",
              "        0.90980392, 0.89411765, 0.90588235, 0.90196078, 0.89411765,\n",
              "        0.89803922, 0.90588235, 0.90196078, 0.89411765, 0.89411765,\n",
              "        0.90980392, 0.8745098 , 0.89803922, 0.95686275, 0.90588235,\n",
              "        0.        , 0.        , 0.        ],\n",
              "       [0.        , 0.        , 0.        , 0.18431373, 0.96078431,\n",
              "        0.90588235, 0.91764706, 0.97647059, 0.89803922, 0.86666667,\n",
              "        0.89803922, 0.88235294, 0.89803922, 0.89019608, 0.88627451,\n",
              "        0.89019608, 0.89411765, 0.89019608, 0.89411765, 0.89803922,\n",
              "        0.89411765, 0.87843137, 0.96470588, 0.94117647, 0.89019608,\n",
              "        0.        , 0.        , 0.        ],\n",
              "       [0.        , 0.        , 0.        , 0.2       , 0.97254902,\n",
              "        0.90196078, 0.96078431, 0.96470588, 0.90196078, 0.88627451,\n",
              "        0.90196078, 0.89019608, 0.90196078, 0.89803922, 0.89411765,\n",
              "        0.89803922, 0.90196078, 0.89411765, 0.89411765, 0.90588235,\n",
              "        0.88235294, 0.89019608, 0.94901961, 0.92941176, 1.        ,\n",
              "        0.        , 0.        , 0.        ],\n",
              "       [0.        , 0.        , 0.        , 0.39607843, 0.99215686,\n",
              "        0.89803922, 0.96862745, 0.94509804, 0.86666667, 0.91372549,\n",
              "        0.89411765, 0.89019608, 0.89803922, 0.89411765, 0.89019608,\n",
              "        0.89411765, 0.90196078, 0.89019608, 0.90196078, 0.91764706,\n",
              "        0.88235294, 0.89803922, 0.98431373, 0.89803922, 0.95294118,\n",
              "        0.21568627, 0.        , 0.        ],\n",
              "       [0.        , 0.        , 0.        , 0.4       , 1.        ,\n",
              "        0.89019608, 0.94901961, 0.94509804, 0.86666667, 0.91764706,\n",
              "        0.8745098 , 0.90196078, 0.89411765, 0.90588235, 0.89803922,\n",
              "        0.90588235, 0.90588235, 0.89019608, 0.89803922, 0.94509804,\n",
              "        0.85882353, 0.9254902 , 0.99607843, 0.88235294, 0.98039216,\n",
              "        0.65490196, 0.        , 0.        ],\n",
              "       [0.        , 0.        , 0.        , 0.35294118, 1.        ,\n",
              "        0.89803922, 0.9254902 , 0.90588235, 0.87058824, 0.9254902 ,\n",
              "        0.8745098 , 0.90588235, 0.89803922, 0.90588235, 0.89803922,\n",
              "        0.90588235, 0.90588235, 0.89411765, 0.87843137, 0.96078431,\n",
              "        0.85490196, 0.95294118, 0.9372549 , 0.89019608, 0.95686275,\n",
              "        0.68627451, 0.        , 0.        ],\n",
              "       [0.        , 0.        , 0.        , 0.83137255, 0.98039216,\n",
              "        0.88235294, 0.9254902 , 0.97647059, 0.89803922, 0.92941176,\n",
              "        0.8745098 , 0.90588235, 0.89803922, 0.90588235, 0.89803922,\n",
              "        0.90588235, 0.90588235, 0.90196078, 0.86666667, 0.95294118,\n",
              "        0.88235294, 0.97254902, 0.90196078, 0.9254902 , 0.91764706,\n",
              "        1.        , 0.00392157, 0.        ],\n",
              "       [0.        , 0.        , 0.        , 0.96078431, 0.95294118,\n",
              "        0.90980392, 0.95294118, 0.85490196, 0.89411765, 0.93333333,\n",
              "        0.87058824, 0.90588235, 0.89803922, 0.90588235, 0.89803922,\n",
              "        0.90588235, 0.90588235, 0.90196078, 0.87058824, 0.92941176,\n",
              "        0.92941176, 0.98823529, 0.89803922, 0.9372549 , 0.94117647,\n",
              "        0.8745098 , 0.        , 0.        ],\n",
              "       [0.        , 0.        , 0.10588235, 1.        , 0.92156863,\n",
              "        0.94901961, 0.92941176, 0.84705882, 0.90196078, 0.9254902 ,\n",
              "        0.87843137, 0.89803922, 0.89019608, 0.91372549, 0.91372549,\n",
              "        0.91372549, 0.90196078, 0.89411765, 0.87843137, 0.90196078,\n",
              "        0.96078431, 0.96862745, 0.86666667, 0.95294118, 0.9372549 ,\n",
              "        0.98823529, 0.        , 0.        ],\n",
              "       [0.        , 0.        , 0.34509804, 1.        , 0.90980392,\n",
              "        0.97254902, 0.9254902 , 0.81568627, 0.91764706, 0.90588235,\n",
              "        0.8745098 , 0.89019608, 0.88627451, 0.91372549, 0.90980392,\n",
              "        0.90980392, 0.90196078, 0.89411765, 0.87843137, 0.87843137,\n",
              "        0.92156863, 0.91372549, 0.91764706, 0.96862745, 0.92156863,\n",
              "        1.        , 0.        , 0.        ],\n",
              "       [0.        , 0.        , 0.3254902 , 1.        , 0.88235294,\n",
              "        0.98039216, 0.92941176, 0.87843137, 0.9254902 , 0.89803922,\n",
              "        0.88235294, 0.88235294, 0.89019608, 0.92156863, 0.89803922,\n",
              "        0.90588235, 0.90196078, 0.90196078, 0.89019608, 0.86666667,\n",
              "        0.89019608, 0.86666667, 0.9372549 , 0.98039216, 0.90588235,\n",
              "        1.        , 0.        , 0.        ],\n",
              "       [0.        , 0.        , 0.07843137, 1.        , 0.87843137,\n",
              "        0.97254902, 0.91764706, 0.88627451, 0.90980392, 0.87058824,\n",
              "        0.88235294, 0.87843137, 0.90588235, 0.93333333, 0.88627451,\n",
              "        0.90196078, 0.89411765, 0.90196078, 0.90196078, 0.86666667,\n",
              "        0.89803922, 0.88235294, 0.95686275, 0.96470588, 0.90196078,\n",
              "        1.        , 0.        , 0.        ],\n",
              "       [0.        , 0.        , 0.37254902, 1.        , 0.85490196,\n",
              "        0.94901961, 1.        , 0.90980392, 0.88627451, 0.87843137,\n",
              "        0.89803922, 0.89411765, 0.89411765, 0.90980392, 0.89411765,\n",
              "        0.89803922, 0.90588235, 0.91372549, 0.90980392, 0.88627451,\n",
              "        0.86666667, 0.87843137, 0.96862745, 0.95686275, 0.89411765,\n",
              "        1.        , 0.        , 0.        ],\n",
              "       [0.        , 0.        , 0.65490196, 1.        , 0.83529412,\n",
              "        0.92156863, 1.        , 0.31764706, 0.96078431, 0.98431373,\n",
              "        0.93333333, 0.9254902 , 0.90196078, 0.89803922, 0.90196078,\n",
              "        0.89803922, 0.90196078, 0.90588235, 0.93333333, 0.94117647,\n",
              "        1.        , 0.75294118, 1.        , 0.9372549 , 0.89411765,\n",
              "        1.        , 0.09019608, 0.        ],\n",
              "       [0.        , 0.        , 0.67843137, 0.94901961, 0.87843137,\n",
              "        0.91372549, 1.        , 0.        , 0.53333333, 0.88627451,\n",
              "        0.9372549 , 1.        , 0.89803922, 0.9254902 , 0.9254902 ,\n",
              "        0.91764706, 0.91372549, 0.89411765, 0.98431373, 0.97254902,\n",
              "        0.78431373, 0.31764706, 1.        , 0.92941176, 0.88235294,\n",
              "        1.        , 0.39607843, 0.        ],\n",
              "       [0.        , 0.        , 0.6745098 , 1.        , 0.88627451,\n",
              "        0.91372549, 1.        , 0.        , 0.        , 0.        ,\n",
              "        0.        , 0.        , 0.03137255, 0.08235294, 0.08627451,\n",
              "        0.08235294, 0.07843137, 0.05490196, 0.        , 0.        ,\n",
              "        0.        , 0.        , 1.        , 0.93333333, 0.89803922,\n",
              "        0.96470588, 0.69803922, 0.        ],\n",
              "       [0.        , 0.        , 0.0627451 , 1.        , 0.9254902 ,\n",
              "        0.93333333, 0.98823529, 0.        , 0.        , 0.        ,\n",
              "        0.        , 0.        , 0.        , 0.        , 0.        ,\n",
              "        0.        , 0.        , 0.        , 0.        , 0.        ,\n",
              "        0.        , 0.        , 0.87058824, 0.95686275, 0.87058824,\n",
              "        0.99607843, 0.46666667, 0.        ],\n",
              "       [0.        , 0.        , 0.        , 0.11764706, 0.89411765,\n",
              "        0.94901961, 0.63921569, 0.        , 0.        , 0.        ,\n",
              "        0.        , 0.00784314, 0.01568627, 0.02352941, 0.01960784,\n",
              "        0.01960784, 0.01568627, 0.01568627, 0.00784314, 0.        ,\n",
              "        0.00392157, 0.        , 0.59215686, 0.98431373, 0.92156863,\n",
              "        0.70588235, 0.        , 0.        ],\n",
              "       [0.        , 0.        , 0.        , 0.        , 0.91764706,\n",
              "        1.        , 0.74901961, 0.        , 0.04313725, 0.        ,\n",
              "        0.        , 0.        , 0.        , 0.        , 0.        ,\n",
              "        0.        , 0.        , 0.        , 0.        , 0.        ,\n",
              "        0.01568627, 0.        , 0.40392157, 0.96470588, 0.96862745,\n",
              "        0.28235294, 0.        , 0.        ],\n",
              "       [0.        , 0.        , 0.        , 0.00392157, 0.37254902,\n",
              "        0.30196078, 0.20392157, 0.        , 0.01568627, 0.        ,\n",
              "        0.        , 0.        , 0.        , 0.        , 0.        ,\n",
              "        0.        , 0.        , 0.        , 0.        , 0.        ,\n",
              "        0.01176471, 0.        , 0.32156863, 0.92941176, 0.90588235,\n",
              "        0.2745098 , 0.        , 0.        ]])"
            ]
          },
          "metadata": {},
          "execution_count": 23
        }
      ]
    },
    {
      "cell_type": "code",
      "source": [
        "X_train_new = X_train.reshape(60000,784)\n",
        "X_test_new = X_test.reshape(10000,784)"
      ],
      "metadata": {
        "id": "1eDtgElqA6Bt"
      },
      "execution_count": null,
      "outputs": []
    },
    {
      "cell_type": "code",
      "source": [
        "X_train_new.shape"
      ],
      "metadata": {
        "colab": {
          "base_uri": "https://localhost:8080/"
        },
        "id": "IzvykZ7XA6C8",
        "outputId": "0727b581-4c87-4a22-9191-d67fdb634641"
      },
      "execution_count": null,
      "outputs": [
        {
          "output_type": "execute_result",
          "data": {
            "text/plain": [
              "(60000, 784)"
            ]
          },
          "metadata": {},
          "execution_count": 25
        }
      ]
    },
    {
      "cell_type": "code",
      "source": [
        "X_test_new.shape"
      ],
      "metadata": {
        "colab": {
          "base_uri": "https://localhost:8080/"
        },
        "id": "htceWAkHA6E5",
        "outputId": "5dc3448c-a3c7-4e18-d09e-fadb59d71a45"
      },
      "execution_count": null,
      "outputs": [
        {
          "output_type": "execute_result",
          "data": {
            "text/plain": [
              "(10000, 784)"
            ]
          },
          "metadata": {},
          "execution_count": 26
        }
      ]
    },
    {
      "cell_type": "code",
      "source": [
        "Simple_ANN = keras.models.Sequential([\n",
        "    keras.layers.Dense(10,input_shape=(784,),activation = 'sigmoid')\n",
        "])\n",
        "Simple_ANN.compile(optimizer = 'adam',loss = 'sparse_categorical_crossentropy',metrics = ['accuracy'])\n",
        "Simple_ANN.fit(X_train_new,y_train,epochs = 5)"
      ],
      "metadata": {
        "colab": {
          "base_uri": "https://localhost:8080/"
        },
        "id": "4_pXu_J5A6Nd",
        "outputId": "7c052736-959d-403f-ce73-3dfda06dd41f"
      },
      "execution_count": null,
      "outputs": [
        {
          "output_type": "stream",
          "name": "stdout",
          "text": [
            "Epoch 1/5\n",
            "\u001b[1m1875/1875\u001b[0m \u001b[32m━━━━━━━━━━━━━━━━━━━━\u001b[0m\u001b[37m\u001b[0m \u001b[1m6s\u001b[0m 3ms/step - accuracy: 0.7412 - loss: 0.7778\n",
            "Epoch 2/5\n",
            "\u001b[1m1875/1875\u001b[0m \u001b[32m━━━━━━━━━━━━━━━━━━━━\u001b[0m\u001b[37m\u001b[0m \u001b[1m4s\u001b[0m 2ms/step - accuracy: 0.8428 - loss: 0.4620\n",
            "Epoch 3/5\n",
            "\u001b[1m1875/1875\u001b[0m \u001b[32m━━━━━━━━━━━━━━━━━━━━\u001b[0m\u001b[37m\u001b[0m \u001b[1m5s\u001b[0m 2ms/step - accuracy: 0.8492 - loss: 0.4385\n",
            "Epoch 4/5\n",
            "\u001b[1m1875/1875\u001b[0m \u001b[32m━━━━━━━━━━━━━━━━━━━━\u001b[0m\u001b[37m\u001b[0m \u001b[1m5s\u001b[0m 2ms/step - accuracy: 0.8551 - loss: 0.4210\n",
            "Epoch 5/5\n",
            "\u001b[1m1875/1875\u001b[0m \u001b[32m━━━━━━━━━━━━━━━━━━━━\u001b[0m\u001b[37m\u001b[0m \u001b[1m5s\u001b[0m 2ms/step - accuracy: 0.8571 - loss: 0.4144\n"
          ]
        },
        {
          "output_type": "execute_result",
          "data": {
            "text/plain": [
              "<keras.src.callbacks.history.History at 0x7881081d5690>"
            ]
          },
          "metadata": {},
          "execution_count": 29
        }
      ]
    },
    {
      "cell_type": "code",
      "source": [
        "#simple ann traning acc is 85.71%"
      ],
      "metadata": {
        "id": "NxWqZ-GXHHSk"
      },
      "execution_count": null,
      "outputs": []
    },
    {
      "cell_type": "code",
      "source": [
        "Simple_ANN.evaluate(X_test_new, y_test)"
      ],
      "metadata": {
        "colab": {
          "base_uri": "https://localhost:8080/"
        },
        "id": "ZCTo4LleA6O5",
        "outputId": "e2e3b036-53a7-4010-af4b-c72c87990149"
      },
      "execution_count": null,
      "outputs": [
        {
          "output_type": "stream",
          "name": "stdout",
          "text": [
            "\u001b[1m313/313\u001b[0m \u001b[32m━━━━━━━━━━━━━━━━━━━━\u001b[0m\u001b[37m\u001b[0m \u001b[1m1s\u001b[0m 2ms/step - accuracy: 0.8433 - loss: 0.4455\n"
          ]
        },
        {
          "output_type": "execute_result",
          "data": {
            "text/plain": [
              "[0.45388031005859375, 0.8396999835968018]"
            ]
          },
          "metadata": {},
          "execution_count": 30
        }
      ]
    },
    {
      "cell_type": "code",
      "source": [
        "#simple ann testing acc is 83.96%"
      ],
      "metadata": {
        "id": "Ri9669LMHAUJ"
      },
      "execution_count": null,
      "outputs": []
    },
    {
      "cell_type": "code",
      "source": [
        "Dense_ANN = keras.Sequential([\n",
        "    keras.layers.Dense(100, input_shape = (784,), activation = 'relu'),\n",
        "    keras.layers.Dense(10, activation = 'sigmoid')\n",
        "])\n",
        "\n",
        "Dense_ANN.compile(optimizer = 'adam', loss = 'sparse_categorical_crossentropy', metrics = ['accuracy'])\n",
        "\n",
        "Dense_ANN.fit(X_train_new, y_train, epochs = 5)"
      ],
      "metadata": {
        "colab": {
          "base_uri": "https://localhost:8080/"
        },
        "id": "CuC3h4L8A6QQ",
        "outputId": "75e08681-7124-4e19-eabc-f4dc8c1725f2"
      },
      "execution_count": null,
      "outputs": [
        {
          "output_type": "stream",
          "name": "stdout",
          "text": [
            "Epoch 1/5\n",
            "\u001b[1m1875/1875\u001b[0m \u001b[32m━━━━━━━━━━━━━━━━━━━━\u001b[0m\u001b[37m\u001b[0m \u001b[1m8s\u001b[0m 4ms/step - accuracy: 0.7792 - loss: 0.6442\n",
            "Epoch 2/5\n",
            "\u001b[1m1875/1875\u001b[0m \u001b[32m━━━━━━━━━━━━━━━━━━━━\u001b[0m\u001b[37m\u001b[0m \u001b[1m9s\u001b[0m 4ms/step - accuracy: 0.8626 - loss: 0.3841\n",
            "Epoch 3/5\n",
            "\u001b[1m1875/1875\u001b[0m \u001b[32m━━━━━━━━━━━━━━━━━━━━\u001b[0m\u001b[37m\u001b[0m \u001b[1m7s\u001b[0m 4ms/step - accuracy: 0.8763 - loss: 0.3439\n",
            "Epoch 4/5\n",
            "\u001b[1m1875/1875\u001b[0m \u001b[32m━━━━━━━━━━━━━━━━━━━━\u001b[0m\u001b[37m\u001b[0m \u001b[1m7s\u001b[0m 4ms/step - accuracy: 0.8850 - loss: 0.3126\n",
            "Epoch 5/5\n",
            "\u001b[1m1875/1875\u001b[0m \u001b[32m━━━━━━━━━━━━━━━━━━━━\u001b[0m\u001b[37m\u001b[0m \u001b[1m10s\u001b[0m 3ms/step - accuracy: 0.8879 - loss: 0.3022\n"
          ]
        },
        {
          "output_type": "execute_result",
          "data": {
            "text/plain": [
              "<keras.src.callbacks.history.History at 0x788107f40050>"
            ]
          },
          "metadata": {},
          "execution_count": 31
        }
      ]
    },
    {
      "cell_type": "code",
      "source": [
        "#traning acc is 88.79%"
      ],
      "metadata": {
        "id": "SWsR6dMKG1Ll"
      },
      "execution_count": null,
      "outputs": []
    },
    {
      "cell_type": "code",
      "source": [
        "Dense_ANN.evaluate(X_test_new, y_test)"
      ],
      "metadata": {
        "colab": {
          "base_uri": "https://localhost:8080/"
        },
        "id": "uoSzJz0-A6Rv",
        "outputId": "74778684-5259-4172-c4f8-003285fd9952"
      },
      "execution_count": null,
      "outputs": [
        {
          "output_type": "stream",
          "name": "stdout",
          "text": [
            "\u001b[1m313/313\u001b[0m \u001b[32m━━━━━━━━━━━━━━━━━━━━\u001b[0m\u001b[37m\u001b[0m \u001b[1m1s\u001b[0m 2ms/step - accuracy: 0.8756 - loss: 0.3380\n"
          ]
        },
        {
          "output_type": "execute_result",
          "data": {
            "text/plain": [
              "[0.3405948281288147, 0.8755999803543091]"
            ]
          },
          "metadata": {},
          "execution_count": 32
        }
      ]
    },
    {
      "cell_type": "code",
      "source": [
        "#testing acc is 87.55%"
      ],
      "metadata": {
        "id": "AUFA3vsvA6Tb"
      },
      "execution_count": null,
      "outputs": []
    },
    {
      "cell_type": "code",
      "source": [
        "import tensorflow as tf\n",
        "from tensorflow import keras\n",
        "from tensorflow.keras import datasets, layers, models"
      ],
      "metadata": {
        "id": "Jj4_k9z7A6Um"
      },
      "execution_count": null,
      "outputs": []
    },
    {
      "cell_type": "code",
      "source": [],
      "metadata": {
        "colab": {
          "base_uri": "https://localhost:8080/",
          "height": 447
        },
        "id": "6LaEL2PdA6WC",
        "outputId": "4d142645-50cb-4ec1-877c-59c39c588196"
      },
      "execution_count": null,
      "outputs": [
        {
          "output_type": "execute_result",
          "data": {
            "text/plain": [
              "<matplotlib.image.AxesImage at 0x7880dc3c3fd0>"
            ]
          },
          "metadata": {},
          "execution_count": 41
        },
        {
          "output_type": "display_data",
          "data": {
            "text/plain": [
              "<Figure size 640x480 with 1 Axes>"
            ],
            "image/png": "[encoded data removed]"
          },
          "metadata": {}
        }
      ]
    },
    {
      "cell_type": "code",
      "source": [
        "CNN = models.Sequential([\n",
        "    layers.Conv2D(filters = 32, kernel_size = (3, 3), activation = 'relu', input_shape = (28, 28, 1)),\n",
        "    layers.MaxPooling2D((2, 2)),\n",
        "\n",
        "    layers.Conv2D(filters = 64, kernel_size = (3, 3), activation = 'relu'),\n",
        "    layers.MaxPooling2D((2, 2)),\n",
        "\n",
        "    # Flattening the feature map\n",
        "\n",
        "    layers.Flatten(),\n",
        "    layers.Dense(64, activation = 'relu'),\n",
        "    layers.Dense(10, activation = 'softmax')\n",
        "\n",
        "])\n",
        "\n",
        "CNN.compile(optimizer = 'adam', loss = 'sparse_categorical_crossentropy',\n",
        "            metrics = ['accuracy'])\n",
        "X_train = X_train.reshape(-1, 28, 28, 1) #reshaping to add the channel\n",
        "CNN.fit(X_train , y_train , epochs = 5)"
      ],
      "metadata": {
        "colab": {
          "base_uri": "https://localhost:8080/"
        },
        "id": "6nEHPfCYNlJJ",
        "outputId": "685b708b-3ada-42dc-c43a-19d5aef3140b"
      },
      "execution_count": null,
      "outputs": [
        {
          "output_type": "stream",
          "name": "stdout",
          "text": [
            "Epoch 1/5\n",
            "\u001b[1m1875/1875\u001b[0m \u001b[32m━━━━━━━━━━━━━━━━━━━━\u001b[0m\u001b[37m\u001b[0m \u001b[1m55s\u001b[0m 29ms/step - accuracy: 0.7588 - loss: 0.6668\n",
            "Epoch 2/5\n",
            "\u001b[1m1875/1875\u001b[0m \u001b[32m━━━━━━━━━━━━━━━━━━━━\u001b[0m\u001b[37m\u001b[0m \u001b[1m54s\u001b[0m 29ms/step - accuracy: 0.8774 - loss: 0.3346\n",
            "Epoch 3/5\n",
            "\u001b[1m1875/1875\u001b[0m \u001b[32m━━━━━━━━━━━━━━━━━━━━\u001b[0m\u001b[37m\u001b[0m \u001b[1m53s\u001b[0m 28ms/step - accuracy: 0.8962 - loss: 0.2846\n",
            "Epoch 4/5\n",
            "\u001b[1m1875/1875\u001b[0m \u001b[32m━━━━━━━━━━━━━━━━━━━━\u001b[0m\u001b[37m\u001b[0m \u001b[1m53s\u001b[0m 28ms/step - accuracy: 0.9081 - loss: 0.2470\n",
            "Epoch 5/5\n",
            "\u001b[1m1875/1875\u001b[0m \u001b[32m━━━━━━━━━━━━━━━━━━━━\u001b[0m\u001b[37m\u001b[0m \u001b[1m81s\u001b[0m 28ms/step - accuracy: 0.9184 - loss: 0.2229\n"
          ]
        },
        {
          "output_type": "execute_result",
          "data": {
            "text/plain": [
              "<keras.src.callbacks.history.History at 0x7880dc200050>"
            ]
          },
          "metadata": {},
          "execution_count": 49
        }
      ]
    },
    {
      "cell_type": "code",
      "source": [
        "CNN.evaluate(X_test, y_test)"
      ],
      "metadata": {
        "colab": {
          "base_uri": "https://localhost:8080/"
        },
        "id": "etE0QV1uN4Rs",
        "outputId": "59bf01cf-4802-4b67-dfa4-48cf2d836a5b"
      },
      "execution_count": null,
      "outputs": [
        {
          "output_type": "stream",
          "name": "stdout",
          "text": [
            "\u001b[1m313/313\u001b[0m \u001b[32m━━━━━━━━━━━━━━━━━━━━\u001b[0m\u001b[37m\u001b[0m \u001b[1m3s\u001b[0m 9ms/step - accuracy: 0.9007 - loss: 0.2974\n"
          ]
        },
        {
          "output_type": "execute_result",
          "data": {
            "text/plain": [
              "[0.28512391448020935, 0.8978000283241272]"
            ]
          },
          "metadata": {},
          "execution_count": 50
        }
      ]
    },
    {
      "cell_type": "code",
      "source": [
        "#model is 89.70% accurate"
      ],
      "metadata": {
        "id": "rq8hjElbPMe2"
      },
      "execution_count": null,
      "outputs": []
    },
    {
      "cell_type": "code",
      "source": [],
      "metadata": {
        "id": "E75l2jShQapf"
      },
      "execution_count": null,
      "outputs": []
    },
    {
      "cell_type": "code",
      "source": [],
      "metadata": {
        "id": "opSTPZ_aQamE"
      },
      "execution_count": null,
      "outputs": []
    }
  ]
}